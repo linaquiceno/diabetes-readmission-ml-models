{
 "cells": [
  {
   "cell_type": "markdown",
   "metadata": {},
   "source": [
    "# Data Engineering and Analysis"
   ]
  },
  {
   "cell_type": "markdown",
   "metadata": {},
   "source": [
    "This file contains the data engineering and analysis part. In the next file, we train the models and perform model selection."
   ]
  },
  {
   "cell_type": "markdown",
   "metadata": {},
   "source": [
    "***************************************************************************************************************************"
   ]
  },
  {
   "cell_type": "markdown",
   "metadata": {},
   "source": [
    "### Part 1 Data Engineering"
   ]
  },
  {
   "cell_type": "markdown",
   "metadata": {},
   "source": [
    "Declaring all the needed importse"
   ]
  },
  {
   "cell_type": "code",
   "execution_count": 34,
   "metadata": {},
   "outputs": [],
   "source": [
    "import pandas as pd\n",
    "from prettytable import PrettyTable\n",
    "from collections import Counter\n",
    "import numpy as np\n",
    "import matplotlib.pyplot as plt\n",
    "import warnings\n",
    "warnings.filterwarnings(\"ignore\")\n",
    "from tabulate import tabulate\n",
    "import seaborn as sns\n",
    "# ROC Curves\n",
    "from sklearn.metrics import roc_curve\n",
    "from sklearn import metrics\n",
    "import matplotlib.pyplot as plt\n",
    "from sklearn.metrics import plot_precision_recall_curve, precision_recall_curve, average_precision_score\n",
    "from sklearn.ensemble import RandomForestClassifier, GradientBoostingClassifier\n",
    "from sklearn.metrics import classification_report, confusion_matrix, accuracy_score, roc_auc_score, precision_recall_fscore_support, roc_curve, f1_score"
   ]
  },
  {
   "cell_type": "markdown",
   "metadata": {},
   "source": [
    "Loading the Data"
   ]
  },
  {
   "cell_type": "code",
   "execution_count": 35,
   "metadata": {},
   "outputs": [
    {
     "data": {
      "text/html": [
       "<div>\n",
       "<style scoped>\n",
       "    .dataframe tbody tr th:only-of-type {\n",
       "        vertical-align: middle;\n",
       "    }\n",
       "\n",
       "    .dataframe tbody tr th {\n",
       "        vertical-align: top;\n",
       "    }\n",
       "\n",
       "    .dataframe thead th {\n",
       "        text-align: right;\n",
       "    }\n",
       "</style>\n",
       "<table border=\"1\" class=\"dataframe\">\n",
       "  <thead>\n",
       "    <tr style=\"text-align: right;\">\n",
       "      <th></th>\n",
       "      <th>0</th>\n",
       "      <th>1</th>\n",
       "    </tr>\n",
       "  </thead>\n",
       "  <tbody>\n",
       "    <tr>\n",
       "      <th>encounter_id</th>\n",
       "      <td>2278392</td>\n",
       "      <td>149190</td>\n",
       "    </tr>\n",
       "    <tr>\n",
       "      <th>patient_nbr</th>\n",
       "      <td>8222157</td>\n",
       "      <td>55629189</td>\n",
       "    </tr>\n",
       "    <tr>\n",
       "      <th>race</th>\n",
       "      <td>Caucasian</td>\n",
       "      <td>Caucasian</td>\n",
       "    </tr>\n",
       "    <tr>\n",
       "      <th>gender</th>\n",
       "      <td>Female</td>\n",
       "      <td>Female</td>\n",
       "    </tr>\n",
       "    <tr>\n",
       "      <th>age</th>\n",
       "      <td>[0-10)</td>\n",
       "      <td>[10-20)</td>\n",
       "    </tr>\n",
       "    <tr>\n",
       "      <th>weight</th>\n",
       "      <td>?</td>\n",
       "      <td>?</td>\n",
       "    </tr>\n",
       "    <tr>\n",
       "      <th>admission_type_id</th>\n",
       "      <td>6</td>\n",
       "      <td>1</td>\n",
       "    </tr>\n",
       "    <tr>\n",
       "      <th>discharge_disposition_id</th>\n",
       "      <td>25</td>\n",
       "      <td>1</td>\n",
       "    </tr>\n",
       "    <tr>\n",
       "      <th>admission_source_id</th>\n",
       "      <td>1</td>\n",
       "      <td>7</td>\n",
       "    </tr>\n",
       "    <tr>\n",
       "      <th>time_in_hospital</th>\n",
       "      <td>1</td>\n",
       "      <td>3</td>\n",
       "    </tr>\n",
       "    <tr>\n",
       "      <th>payer_code</th>\n",
       "      <td>?</td>\n",
       "      <td>?</td>\n",
       "    </tr>\n",
       "    <tr>\n",
       "      <th>medical_specialty</th>\n",
       "      <td>Pediatrics-Endocrinology</td>\n",
       "      <td>?</td>\n",
       "    </tr>\n",
       "    <tr>\n",
       "      <th>num_lab_procedures</th>\n",
       "      <td>41</td>\n",
       "      <td>59</td>\n",
       "    </tr>\n",
       "    <tr>\n",
       "      <th>num_procedures</th>\n",
       "      <td>0</td>\n",
       "      <td>0</td>\n",
       "    </tr>\n",
       "    <tr>\n",
       "      <th>num_medications</th>\n",
       "      <td>1</td>\n",
       "      <td>18</td>\n",
       "    </tr>\n",
       "    <tr>\n",
       "      <th>number_outpatient</th>\n",
       "      <td>0</td>\n",
       "      <td>0</td>\n",
       "    </tr>\n",
       "    <tr>\n",
       "      <th>number_emergency</th>\n",
       "      <td>0</td>\n",
       "      <td>0</td>\n",
       "    </tr>\n",
       "    <tr>\n",
       "      <th>number_inpatient</th>\n",
       "      <td>0</td>\n",
       "      <td>0</td>\n",
       "    </tr>\n",
       "    <tr>\n",
       "      <th>diag_1</th>\n",
       "      <td>250.83</td>\n",
       "      <td>276</td>\n",
       "    </tr>\n",
       "    <tr>\n",
       "      <th>diag_2</th>\n",
       "      <td>?</td>\n",
       "      <td>250.01</td>\n",
       "    </tr>\n",
       "    <tr>\n",
       "      <th>diag_3</th>\n",
       "      <td>?</td>\n",
       "      <td>255</td>\n",
       "    </tr>\n",
       "    <tr>\n",
       "      <th>number_diagnoses</th>\n",
       "      <td>1</td>\n",
       "      <td>9</td>\n",
       "    </tr>\n",
       "    <tr>\n",
       "      <th>max_glu_serum</th>\n",
       "      <td>None</td>\n",
       "      <td>None</td>\n",
       "    </tr>\n",
       "    <tr>\n",
       "      <th>A1Cresult</th>\n",
       "      <td>None</td>\n",
       "      <td>None</td>\n",
       "    </tr>\n",
       "    <tr>\n",
       "      <th>metformin</th>\n",
       "      <td>No</td>\n",
       "      <td>No</td>\n",
       "    </tr>\n",
       "    <tr>\n",
       "      <th>repaglinide</th>\n",
       "      <td>No</td>\n",
       "      <td>No</td>\n",
       "    </tr>\n",
       "    <tr>\n",
       "      <th>nateglinide</th>\n",
       "      <td>No</td>\n",
       "      <td>No</td>\n",
       "    </tr>\n",
       "    <tr>\n",
       "      <th>chlorpropamide</th>\n",
       "      <td>No</td>\n",
       "      <td>No</td>\n",
       "    </tr>\n",
       "    <tr>\n",
       "      <th>glimepiride</th>\n",
       "      <td>No</td>\n",
       "      <td>No</td>\n",
       "    </tr>\n",
       "    <tr>\n",
       "      <th>acetohexamide</th>\n",
       "      <td>No</td>\n",
       "      <td>No</td>\n",
       "    </tr>\n",
       "    <tr>\n",
       "      <th>glipizide</th>\n",
       "      <td>No</td>\n",
       "      <td>No</td>\n",
       "    </tr>\n",
       "    <tr>\n",
       "      <th>glyburide</th>\n",
       "      <td>No</td>\n",
       "      <td>No</td>\n",
       "    </tr>\n",
       "    <tr>\n",
       "      <th>tolbutamide</th>\n",
       "      <td>No</td>\n",
       "      <td>No</td>\n",
       "    </tr>\n",
       "    <tr>\n",
       "      <th>pioglitazone</th>\n",
       "      <td>No</td>\n",
       "      <td>No</td>\n",
       "    </tr>\n",
       "    <tr>\n",
       "      <th>rosiglitazone</th>\n",
       "      <td>No</td>\n",
       "      <td>No</td>\n",
       "    </tr>\n",
       "    <tr>\n",
       "      <th>acarbose</th>\n",
       "      <td>No</td>\n",
       "      <td>No</td>\n",
       "    </tr>\n",
       "    <tr>\n",
       "      <th>miglitol</th>\n",
       "      <td>No</td>\n",
       "      <td>No</td>\n",
       "    </tr>\n",
       "    <tr>\n",
       "      <th>troglitazone</th>\n",
       "      <td>No</td>\n",
       "      <td>No</td>\n",
       "    </tr>\n",
       "    <tr>\n",
       "      <th>tolazamide</th>\n",
       "      <td>No</td>\n",
       "      <td>No</td>\n",
       "    </tr>\n",
       "    <tr>\n",
       "      <th>examide</th>\n",
       "      <td>No</td>\n",
       "      <td>No</td>\n",
       "    </tr>\n",
       "    <tr>\n",
       "      <th>citoglipton</th>\n",
       "      <td>No</td>\n",
       "      <td>No</td>\n",
       "    </tr>\n",
       "    <tr>\n",
       "      <th>insulin</th>\n",
       "      <td>No</td>\n",
       "      <td>Up</td>\n",
       "    </tr>\n",
       "    <tr>\n",
       "      <th>glyburide-metformin</th>\n",
       "      <td>No</td>\n",
       "      <td>No</td>\n",
       "    </tr>\n",
       "    <tr>\n",
       "      <th>glipizide-metformin</th>\n",
       "      <td>No</td>\n",
       "      <td>No</td>\n",
       "    </tr>\n",
       "    <tr>\n",
       "      <th>glimepiride-pioglitazone</th>\n",
       "      <td>No</td>\n",
       "      <td>No</td>\n",
       "    </tr>\n",
       "    <tr>\n",
       "      <th>metformin-rosiglitazone</th>\n",
       "      <td>No</td>\n",
       "      <td>No</td>\n",
       "    </tr>\n",
       "    <tr>\n",
       "      <th>metformin-pioglitazone</th>\n",
       "      <td>No</td>\n",
       "      <td>No</td>\n",
       "    </tr>\n",
       "    <tr>\n",
       "      <th>change</th>\n",
       "      <td>No</td>\n",
       "      <td>Ch</td>\n",
       "    </tr>\n",
       "    <tr>\n",
       "      <th>diabetesMed</th>\n",
       "      <td>No</td>\n",
       "      <td>Yes</td>\n",
       "    </tr>\n",
       "    <tr>\n",
       "      <th>readmitted</th>\n",
       "      <td>NO</td>\n",
       "      <td>&gt;30</td>\n",
       "    </tr>\n",
       "  </tbody>\n",
       "</table>\n",
       "</div>"
      ],
      "text/plain": [
       "                                                 0          1\n",
       "encounter_id                               2278392     149190\n",
       "patient_nbr                                8222157   55629189\n",
       "race                                     Caucasian  Caucasian\n",
       "gender                                      Female     Female\n",
       "age                                         [0-10)    [10-20)\n",
       "weight                                           ?          ?\n",
       "admission_type_id                                6          1\n",
       "discharge_disposition_id                        25          1\n",
       "admission_source_id                              1          7\n",
       "time_in_hospital                                 1          3\n",
       "payer_code                                       ?          ?\n",
       "medical_specialty         Pediatrics-Endocrinology          ?\n",
       "num_lab_procedures                              41         59\n",
       "num_procedures                                   0          0\n",
       "num_medications                                  1         18\n",
       "number_outpatient                                0          0\n",
       "number_emergency                                 0          0\n",
       "number_inpatient                                 0          0\n",
       "diag_1                                      250.83        276\n",
       "diag_2                                           ?     250.01\n",
       "diag_3                                           ?        255\n",
       "number_diagnoses                                 1          9\n",
       "max_glu_serum                                 None       None\n",
       "A1Cresult                                     None       None\n",
       "metformin                                       No         No\n",
       "repaglinide                                     No         No\n",
       "nateglinide                                     No         No\n",
       "chlorpropamide                                  No         No\n",
       "glimepiride                                     No         No\n",
       "acetohexamide                                   No         No\n",
       "glipizide                                       No         No\n",
       "glyburide                                       No         No\n",
       "tolbutamide                                     No         No\n",
       "pioglitazone                                    No         No\n",
       "rosiglitazone                                   No         No\n",
       "acarbose                                        No         No\n",
       "miglitol                                        No         No\n",
       "troglitazone                                    No         No\n",
       "tolazamide                                      No         No\n",
       "examide                                         No         No\n",
       "citoglipton                                     No         No\n",
       "insulin                                         No         Up\n",
       "glyburide-metformin                             No         No\n",
       "glipizide-metformin                             No         No\n",
       "glimepiride-pioglitazone                        No         No\n",
       "metformin-rosiglitazone                         No         No\n",
       "metformin-pioglitazone                          No         No\n",
       "change                                          No         Ch\n",
       "diabetesMed                                     No        Yes\n",
       "readmitted                                      NO        >30"
      ]
     },
     "execution_count": 35,
     "metadata": {},
     "output_type": "execute_result"
    }
   ],
   "source": [
    "# load the csv file\n",
    "DiabeticDataset = pd.read_csv('diabetic_data.csv')\n",
    "#Data2 Backup\n",
    "data_backup = DiabeticDataset.copy()\n",
    "#Display fields\n",
    "DiabeticDataset.head(2).T"
   ]
  },
  {
   "cell_type": "code",
   "execution_count": 36,
   "metadata": {},
   "outputs": [
    {
     "name": "stdout",
     "output_type": "stream",
     "text": [
      "<class 'pandas.core.frame.DataFrame'>\n",
      "RangeIndex: 101766 entries, 0 to 101765\n",
      "Data columns (total 50 columns):\n",
      " #   Column                    Non-Null Count   Dtype \n",
      "---  ------                    --------------   ----- \n",
      " 0   encounter_id              101766 non-null  int64 \n",
      " 1   patient_nbr               101766 non-null  int64 \n",
      " 2   race                      101766 non-null  object\n",
      " 3   gender                    101766 non-null  object\n",
      " 4   age                       101766 non-null  object\n",
      " 5   weight                    101766 non-null  object\n",
      " 6   admission_type_id         101766 non-null  int64 \n",
      " 7   discharge_disposition_id  101766 non-null  int64 \n",
      " 8   admission_source_id       101766 non-null  int64 \n",
      " 9   time_in_hospital          101766 non-null  int64 \n",
      " 10  payer_code                101766 non-null  object\n",
      " 11  medical_specialty         101766 non-null  object\n",
      " 12  num_lab_procedures        101766 non-null  int64 \n",
      " 13  num_procedures            101766 non-null  int64 \n",
      " 14  num_medications           101766 non-null  int64 \n",
      " 15  number_outpatient         101766 non-null  int64 \n",
      " 16  number_emergency          101766 non-null  int64 \n",
      " 17  number_inpatient          101766 non-null  int64 \n",
      " 18  diag_1                    101766 non-null  object\n",
      " 19  diag_2                    101766 non-null  object\n",
      " 20  diag_3                    101766 non-null  object\n",
      " 21  number_diagnoses          101766 non-null  int64 \n",
      " 22  max_glu_serum             101766 non-null  object\n",
      " 23  A1Cresult                 101766 non-null  object\n",
      " 24  metformin                 101766 non-null  object\n",
      " 25  repaglinide               101766 non-null  object\n",
      " 26  nateglinide               101766 non-null  object\n",
      " 27  chlorpropamide            101766 non-null  object\n",
      " 28  glimepiride               101766 non-null  object\n",
      " 29  acetohexamide             101766 non-null  object\n",
      " 30  glipizide                 101766 non-null  object\n",
      " 31  glyburide                 101766 non-null  object\n",
      " 32  tolbutamide               101766 non-null  object\n",
      " 33  pioglitazone              101766 non-null  object\n",
      " 34  rosiglitazone             101766 non-null  object\n",
      " 35  acarbose                  101766 non-null  object\n",
      " 36  miglitol                  101766 non-null  object\n",
      " 37  troglitazone              101766 non-null  object\n",
      " 38  tolazamide                101766 non-null  object\n",
      " 39  examide                   101766 non-null  object\n",
      " 40  citoglipton               101766 non-null  object\n",
      " 41  insulin                   101766 non-null  object\n",
      " 42  glyburide-metformin       101766 non-null  object\n",
      " 43  glipizide-metformin       101766 non-null  object\n",
      " 44  glimepiride-pioglitazone  101766 non-null  object\n",
      " 45  metformin-rosiglitazone   101766 non-null  object\n",
      " 46  metformin-pioglitazone    101766 non-null  object\n",
      " 47  change                    101766 non-null  object\n",
      " 48  diabetesMed               101766 non-null  object\n",
      " 49  readmitted                101766 non-null  object\n",
      "dtypes: int64(13), object(37)\n",
      "memory usage: 38.8+ MB\n",
      "None\n"
     ]
    }
   ],
   "source": [
    "#Print dataset info for each column\n",
    "print(DiabeticDataset.info())"
   ]
  },
  {
   "cell_type": "markdown",
   "metadata": {},
   "source": [
    "Initially, total number of features is 49 and # of examples is 101766"
   ]
  },
  {
   "cell_type": "code",
   "execution_count": 37,
   "metadata": {},
   "outputs": [
    {
     "name": "stdout",
     "output_type": "stream",
     "text": [
      "- # of features = 49\n",
      "- # of examples = 101766\n"
     ]
    }
   ],
   "source": [
    "#Function that calculates number of features and number of examples in the data\n",
    "def printBasicStats(dataset):\n",
    "  print('- # of features = %d' % (len(dataset.keys()) - 1))\n",
    "  print('- # of examples = %d' % len(dataset))\n",
    "#print results from printBasicStats on Diabetes dataset\n",
    "printBasicStats(DiabeticDataset)"
   ]
  },
  {
   "cell_type": "markdown",
   "metadata": {},
   "source": [
    "Now we will focus on the data cleaning. We will go one feature at a time."
   ]
  },
  {
   "cell_type": "markdown",
   "metadata": {},
   "source": [
    "Lets check the percentabloe of null "
   ]
  },
  {
   "cell_type": "code",
   "execution_count": 38,
   "metadata": {
    "scrolled": true
   },
   "outputs": [
    {
     "data": {
      "text/html": [
       "<div>\n",
       "<style scoped>\n",
       "    .dataframe tbody tr th:only-of-type {\n",
       "        vertical-align: middle;\n",
       "    }\n",
       "\n",
       "    .dataframe tbody tr th {\n",
       "        vertical-align: top;\n",
       "    }\n",
       "\n",
       "    .dataframe thead th {\n",
       "        text-align: right;\n",
       "    }\n",
       "</style>\n",
       "<table border=\"1\" class=\"dataframe\">\n",
       "  <thead>\n",
       "    <tr style=\"text-align: right;\">\n",
       "      <th></th>\n",
       "      <th>encounter_id</th>\n",
       "      <th>patient_nbr</th>\n",
       "      <th>race</th>\n",
       "      <th>gender</th>\n",
       "      <th>age</th>\n",
       "      <th>weight</th>\n",
       "      <th>admission_type_id</th>\n",
       "      <th>discharge_disposition_id</th>\n",
       "      <th>admission_source_id</th>\n",
       "      <th>time_in_hospital</th>\n",
       "      <th>...</th>\n",
       "      <th>citoglipton</th>\n",
       "      <th>insulin</th>\n",
       "      <th>glyburide-metformin</th>\n",
       "      <th>glipizide-metformin</th>\n",
       "      <th>glimepiride-pioglitazone</th>\n",
       "      <th>metformin-rosiglitazone</th>\n",
       "      <th>metformin-pioglitazone</th>\n",
       "      <th>change</th>\n",
       "      <th>diabetesMed</th>\n",
       "      <th>readmitted</th>\n",
       "    </tr>\n",
       "  </thead>\n",
       "  <tbody>\n",
       "    <tr>\n",
       "      <th>0</th>\n",
       "      <td>False</td>\n",
       "      <td>False</td>\n",
       "      <td>False</td>\n",
       "      <td>False</td>\n",
       "      <td>False</td>\n",
       "      <td>False</td>\n",
       "      <td>False</td>\n",
       "      <td>False</td>\n",
       "      <td>False</td>\n",
       "      <td>False</td>\n",
       "      <td>...</td>\n",
       "      <td>False</td>\n",
       "      <td>False</td>\n",
       "      <td>False</td>\n",
       "      <td>False</td>\n",
       "      <td>False</td>\n",
       "      <td>False</td>\n",
       "      <td>False</td>\n",
       "      <td>False</td>\n",
       "      <td>False</td>\n",
       "      <td>False</td>\n",
       "    </tr>\n",
       "    <tr>\n",
       "      <th>1</th>\n",
       "      <td>False</td>\n",
       "      <td>False</td>\n",
       "      <td>False</td>\n",
       "      <td>False</td>\n",
       "      <td>False</td>\n",
       "      <td>False</td>\n",
       "      <td>False</td>\n",
       "      <td>False</td>\n",
       "      <td>False</td>\n",
       "      <td>False</td>\n",
       "      <td>...</td>\n",
       "      <td>False</td>\n",
       "      <td>False</td>\n",
       "      <td>False</td>\n",
       "      <td>False</td>\n",
       "      <td>False</td>\n",
       "      <td>False</td>\n",
       "      <td>False</td>\n",
       "      <td>False</td>\n",
       "      <td>False</td>\n",
       "      <td>False</td>\n",
       "    </tr>\n",
       "    <tr>\n",
       "      <th>2</th>\n",
       "      <td>False</td>\n",
       "      <td>False</td>\n",
       "      <td>False</td>\n",
       "      <td>False</td>\n",
       "      <td>False</td>\n",
       "      <td>False</td>\n",
       "      <td>False</td>\n",
       "      <td>False</td>\n",
       "      <td>False</td>\n",
       "      <td>False</td>\n",
       "      <td>...</td>\n",
       "      <td>False</td>\n",
       "      <td>False</td>\n",
       "      <td>False</td>\n",
       "      <td>False</td>\n",
       "      <td>False</td>\n",
       "      <td>False</td>\n",
       "      <td>False</td>\n",
       "      <td>False</td>\n",
       "      <td>False</td>\n",
       "      <td>False</td>\n",
       "    </tr>\n",
       "    <tr>\n",
       "      <th>3</th>\n",
       "      <td>False</td>\n",
       "      <td>False</td>\n",
       "      <td>False</td>\n",
       "      <td>False</td>\n",
       "      <td>False</td>\n",
       "      <td>False</td>\n",
       "      <td>False</td>\n",
       "      <td>False</td>\n",
       "      <td>False</td>\n",
       "      <td>False</td>\n",
       "      <td>...</td>\n",
       "      <td>False</td>\n",
       "      <td>False</td>\n",
       "      <td>False</td>\n",
       "      <td>False</td>\n",
       "      <td>False</td>\n",
       "      <td>False</td>\n",
       "      <td>False</td>\n",
       "      <td>False</td>\n",
       "      <td>False</td>\n",
       "      <td>False</td>\n",
       "    </tr>\n",
       "    <tr>\n",
       "      <th>4</th>\n",
       "      <td>False</td>\n",
       "      <td>False</td>\n",
       "      <td>False</td>\n",
       "      <td>False</td>\n",
       "      <td>False</td>\n",
       "      <td>False</td>\n",
       "      <td>False</td>\n",
       "      <td>False</td>\n",
       "      <td>False</td>\n",
       "      <td>False</td>\n",
       "      <td>...</td>\n",
       "      <td>False</td>\n",
       "      <td>False</td>\n",
       "      <td>False</td>\n",
       "      <td>False</td>\n",
       "      <td>False</td>\n",
       "      <td>False</td>\n",
       "      <td>False</td>\n",
       "      <td>False</td>\n",
       "      <td>False</td>\n",
       "      <td>False</td>\n",
       "    </tr>\n",
       "    <tr>\n",
       "      <th>...</th>\n",
       "      <td>...</td>\n",
       "      <td>...</td>\n",
       "      <td>...</td>\n",
       "      <td>...</td>\n",
       "      <td>...</td>\n",
       "      <td>...</td>\n",
       "      <td>...</td>\n",
       "      <td>...</td>\n",
       "      <td>...</td>\n",
       "      <td>...</td>\n",
       "      <td>...</td>\n",
       "      <td>...</td>\n",
       "      <td>...</td>\n",
       "      <td>...</td>\n",
       "      <td>...</td>\n",
       "      <td>...</td>\n",
       "      <td>...</td>\n",
       "      <td>...</td>\n",
       "      <td>...</td>\n",
       "      <td>...</td>\n",
       "      <td>...</td>\n",
       "    </tr>\n",
       "    <tr>\n",
       "      <th>101761</th>\n",
       "      <td>False</td>\n",
       "      <td>False</td>\n",
       "      <td>False</td>\n",
       "      <td>False</td>\n",
       "      <td>False</td>\n",
       "      <td>False</td>\n",
       "      <td>False</td>\n",
       "      <td>False</td>\n",
       "      <td>False</td>\n",
       "      <td>False</td>\n",
       "      <td>...</td>\n",
       "      <td>False</td>\n",
       "      <td>False</td>\n",
       "      <td>False</td>\n",
       "      <td>False</td>\n",
       "      <td>False</td>\n",
       "      <td>False</td>\n",
       "      <td>False</td>\n",
       "      <td>False</td>\n",
       "      <td>False</td>\n",
       "      <td>False</td>\n",
       "    </tr>\n",
       "    <tr>\n",
       "      <th>101762</th>\n",
       "      <td>False</td>\n",
       "      <td>False</td>\n",
       "      <td>False</td>\n",
       "      <td>False</td>\n",
       "      <td>False</td>\n",
       "      <td>False</td>\n",
       "      <td>False</td>\n",
       "      <td>False</td>\n",
       "      <td>False</td>\n",
       "      <td>False</td>\n",
       "      <td>...</td>\n",
       "      <td>False</td>\n",
       "      <td>False</td>\n",
       "      <td>False</td>\n",
       "      <td>False</td>\n",
       "      <td>False</td>\n",
       "      <td>False</td>\n",
       "      <td>False</td>\n",
       "      <td>False</td>\n",
       "      <td>False</td>\n",
       "      <td>False</td>\n",
       "    </tr>\n",
       "    <tr>\n",
       "      <th>101763</th>\n",
       "      <td>False</td>\n",
       "      <td>False</td>\n",
       "      <td>False</td>\n",
       "      <td>False</td>\n",
       "      <td>False</td>\n",
       "      <td>False</td>\n",
       "      <td>False</td>\n",
       "      <td>False</td>\n",
       "      <td>False</td>\n",
       "      <td>False</td>\n",
       "      <td>...</td>\n",
       "      <td>False</td>\n",
       "      <td>False</td>\n",
       "      <td>False</td>\n",
       "      <td>False</td>\n",
       "      <td>False</td>\n",
       "      <td>False</td>\n",
       "      <td>False</td>\n",
       "      <td>False</td>\n",
       "      <td>False</td>\n",
       "      <td>False</td>\n",
       "    </tr>\n",
       "    <tr>\n",
       "      <th>101764</th>\n",
       "      <td>False</td>\n",
       "      <td>False</td>\n",
       "      <td>False</td>\n",
       "      <td>False</td>\n",
       "      <td>False</td>\n",
       "      <td>False</td>\n",
       "      <td>False</td>\n",
       "      <td>False</td>\n",
       "      <td>False</td>\n",
       "      <td>False</td>\n",
       "      <td>...</td>\n",
       "      <td>False</td>\n",
       "      <td>False</td>\n",
       "      <td>False</td>\n",
       "      <td>False</td>\n",
       "      <td>False</td>\n",
       "      <td>False</td>\n",
       "      <td>False</td>\n",
       "      <td>False</td>\n",
       "      <td>False</td>\n",
       "      <td>False</td>\n",
       "    </tr>\n",
       "    <tr>\n",
       "      <th>101765</th>\n",
       "      <td>False</td>\n",
       "      <td>False</td>\n",
       "      <td>False</td>\n",
       "      <td>False</td>\n",
       "      <td>False</td>\n",
       "      <td>False</td>\n",
       "      <td>False</td>\n",
       "      <td>False</td>\n",
       "      <td>False</td>\n",
       "      <td>False</td>\n",
       "      <td>...</td>\n",
       "      <td>False</td>\n",
       "      <td>False</td>\n",
       "      <td>False</td>\n",
       "      <td>False</td>\n",
       "      <td>False</td>\n",
       "      <td>False</td>\n",
       "      <td>False</td>\n",
       "      <td>False</td>\n",
       "      <td>False</td>\n",
       "      <td>False</td>\n",
       "    </tr>\n",
       "  </tbody>\n",
       "</table>\n",
       "<p>101766 rows × 50 columns</p>\n",
       "</div>"
      ],
      "text/plain": [
       "        encounter_id  patient_nbr   race  gender    age  weight  \\\n",
       "0              False        False  False   False  False   False   \n",
       "1              False        False  False   False  False   False   \n",
       "2              False        False  False   False  False   False   \n",
       "3              False        False  False   False  False   False   \n",
       "4              False        False  False   False  False   False   \n",
       "...              ...          ...    ...     ...    ...     ...   \n",
       "101761         False        False  False   False  False   False   \n",
       "101762         False        False  False   False  False   False   \n",
       "101763         False        False  False   False  False   False   \n",
       "101764         False        False  False   False  False   False   \n",
       "101765         False        False  False   False  False   False   \n",
       "\n",
       "        admission_type_id  discharge_disposition_id  admission_source_id  \\\n",
       "0                   False                     False                False   \n",
       "1                   False                     False                False   \n",
       "2                   False                     False                False   \n",
       "3                   False                     False                False   \n",
       "4                   False                     False                False   \n",
       "...                   ...                       ...                  ...   \n",
       "101761              False                     False                False   \n",
       "101762              False                     False                False   \n",
       "101763              False                     False                False   \n",
       "101764              False                     False                False   \n",
       "101765              False                     False                False   \n",
       "\n",
       "        time_in_hospital  ...  citoglipton  insulin  glyburide-metformin  \\\n",
       "0                  False  ...        False    False                False   \n",
       "1                  False  ...        False    False                False   \n",
       "2                  False  ...        False    False                False   \n",
       "3                  False  ...        False    False                False   \n",
       "4                  False  ...        False    False                False   \n",
       "...                  ...  ...          ...      ...                  ...   \n",
       "101761             False  ...        False    False                False   \n",
       "101762             False  ...        False    False                False   \n",
       "101763             False  ...        False    False                False   \n",
       "101764             False  ...        False    False                False   \n",
       "101765             False  ...        False    False                False   \n",
       "\n",
       "        glipizide-metformin  glimepiride-pioglitazone  \\\n",
       "0                     False                     False   \n",
       "1                     False                     False   \n",
       "2                     False                     False   \n",
       "3                     False                     False   \n",
       "4                     False                     False   \n",
       "...                     ...                       ...   \n",
       "101761                False                     False   \n",
       "101762                False                     False   \n",
       "101763                False                     False   \n",
       "101764                False                     False   \n",
       "101765                False                     False   \n",
       "\n",
       "        metformin-rosiglitazone  metformin-pioglitazone  change  diabetesMed  \\\n",
       "0                         False                   False   False        False   \n",
       "1                         False                   False   False        False   \n",
       "2                         False                   False   False        False   \n",
       "3                         False                   False   False        False   \n",
       "4                         False                   False   False        False   \n",
       "...                         ...                     ...     ...          ...   \n",
       "101761                    False                   False   False        False   \n",
       "101762                    False                   False   False        False   \n",
       "101763                    False                   False   False        False   \n",
       "101764                    False                   False   False        False   \n",
       "101765                    False                   False   False        False   \n",
       "\n",
       "        readmitted  \n",
       "0            False  \n",
       "1            False  \n",
       "2            False  \n",
       "3            False  \n",
       "4            False  \n",
       "...            ...  \n",
       "101761       False  \n",
       "101762       False  \n",
       "101763       False  \n",
       "101764       False  \n",
       "101765       False  \n",
       "\n",
       "[101766 rows x 50 columns]"
      ]
     },
     "execution_count": 38,
     "metadata": {},
     "output_type": "execute_result"
    }
   ],
   "source": [
    "#finding null values\n",
    "DiabeticDataset.isnull()"
   ]
  },
  {
   "cell_type": "markdown",
   "metadata": {},
   "source": [
    "From the results below, we could see that wight, payer code, medical specialty Have high percentage of missing values. We will drop them later.\n",
    "The ones with small percentage missing values, we need to come up with a strategy on how to replace them or just drop those rows. "
   ]
  },
  {
   "cell_type": "code",
   "execution_count": 39,
   "metadata": {},
   "outputs": [
    {
     "name": "stdout",
     "output_type": "stream",
     "text": [
      "+--------------------------+----------------+---------------------+\n",
      "|       Column Name        | Missing Values |  Missing Percentage |\n",
      "+--------------------------+----------------+---------------------+\n",
      "|       encounter_id       |       0        |         0.0         |\n",
      "|       patient_nbr        |       0        |         0.0         |\n",
      "|           race           |      2273      |  2.2335554114340743 |\n",
      "|          gender          |       0        |         0.0         |\n",
      "|           age            |       0        |         0.0         |\n",
      "|          weight          |     98569      |  96.85847925633315  |\n",
      "|    admission_type_id     |       0        |         0.0         |\n",
      "| discharge_disposition_id |       0        |         0.0         |\n",
      "|   admission_source_id    |       0        |         0.0         |\n",
      "|     time_in_hospital     |       0        |         0.0         |\n",
      "|        payer_code        |     40256      |   39.5574160328597  |\n",
      "|    medical_specialty     |     49949      |  49.08220820313268  |\n",
      "|    num_lab_procedures    |       0        |         0.0         |\n",
      "|      num_procedures      |       0        |         0.0         |\n",
      "|     num_medications      |       0        |         0.0         |\n",
      "|    number_outpatient     |       0        |         0.0         |\n",
      "|     number_emergency     |       0        |         0.0         |\n",
      "|     number_inpatient     |       0        |         0.0         |\n",
      "|          diag_1          |       21       | 0.02063557573256294 |\n",
      "|          diag_2          |      358       |  0.3517874339170253 |\n",
      "|          diag_3          |      1423      |  1.398305917497003  |\n",
      "|     number_diagnoses     |       0        |         0.0         |\n",
      "|      max_glu_serum       |       0        |         0.0         |\n",
      "|        A1Cresult         |       0        |         0.0         |\n",
      "|        metformin         |       0        |         0.0         |\n",
      "|       repaglinide        |       0        |         0.0         |\n",
      "|       nateglinide        |       0        |         0.0         |\n",
      "|      chlorpropamide      |       0        |         0.0         |\n",
      "|       glimepiride        |       0        |         0.0         |\n",
      "|      acetohexamide       |       0        |         0.0         |\n",
      "|        glipizide         |       0        |         0.0         |\n",
      "|        glyburide         |       0        |         0.0         |\n",
      "|       tolbutamide        |       0        |         0.0         |\n",
      "|       pioglitazone       |       0        |         0.0         |\n",
      "|      rosiglitazone       |       0        |         0.0         |\n",
      "|         acarbose         |       0        |         0.0         |\n",
      "|         miglitol         |       0        |         0.0         |\n",
      "|       troglitazone       |       0        |         0.0         |\n",
      "|        tolazamide        |       0        |         0.0         |\n",
      "|         examide          |       0        |         0.0         |\n",
      "|       citoglipton        |       0        |         0.0         |\n",
      "|         insulin          |       0        |         0.0         |\n",
      "|   glyburide-metformin    |       0        |         0.0         |\n",
      "|   glipizide-metformin    |       0        |         0.0         |\n",
      "| glimepiride-pioglitazone |       0        |         0.0         |\n",
      "| metformin-rosiglitazone  |       0        |         0.0         |\n",
      "|  metformin-pioglitazone  |       0        |         0.0         |\n",
      "|          change          |       0        |         0.0         |\n",
      "|       diabetesMed        |       0        |         0.0         |\n",
      "|        readmitted        |       0        |         0.0         |\n",
      "+--------------------------+----------------+---------------------+\n"
     ]
    }
   ],
   "source": [
    "#creating a table to show percentage of missing values in each column\n",
    "t = PrettyTable(['Column Name', 'Missing Values', 'Missing Percentage'])\n",
    "#Loop through each column get total number of missing values then calculate percentage\n",
    "for col in DiabeticDataset.columns :\n",
    "    lenn = len(DiabeticDataset[DiabeticDataset[col] == '?'])\n",
    "    t.add_row([col,lenn,(lenn / len(DiabeticDataset)*100)])\n",
    "print(t)"
   ]
  },
  {
   "cell_type": "markdown",
   "metadata": {},
   "source": [
    "### Race "
   ]
  },
  {
   "cell_type": "code",
   "execution_count": 40,
   "metadata": {},
   "outputs": [
    {
     "data": {
      "image/png": "[encoded data removed]",
      "text/plain": [
       "<Figure size 432x288 with 1 Axes>"
      ]
     },
     "metadata": {
      "needs_background": "light"
     },
     "output_type": "display_data"
    }
   ],
   "source": [
    "#Print count for each race category\n",
    "DiabeticDataset['race'].value_counts()\n",
    "#plot the results\n",
    "sns.countplot(x = 'race', data = DiabeticDataset)\n",
    "plt.title(\"Race\")\n",
    "plt.show()"
   ]
  },
  {
   "cell_type": "markdown",
   "metadata": {},
   "source": [
    "Race has missing values '?' with less than 2000 rows. We decided we will replace the ? values with the majority category which is caucasian"
   ]
  },
  {
   "cell_type": "code",
   "execution_count": 41,
   "metadata": {},
   "outputs": [
    {
     "data": {
      "text/plain": [
       "1    76099\n",
       "2    19210\n",
       "5     2037\n",
       "4     1506\n",
       "3      641\n",
       "Name: race, dtype: int64"
      ]
     },
     "execution_count": 41,
     "metadata": {},
     "output_type": "execute_result"
    }
   ],
   "source": [
    "#drop the missing value\n",
    "DiabeticDataset = DiabeticDataset[DiabeticDataset.race != '?']\n",
    "#Map the categories to numerical values\n",
    "DiabeticDataset['race'] = DiabeticDataset['race'].apply(lambda x : 1 if x == 'Caucasian' \n",
    "                                                            else ( 2 if x == 'AfricanAmerican'                                                          \n",
    "                                                            else ( 3 if x == 'Asian'\n",
    "                                                            else ( 4 if x == 'Other'\n",
    "                                                            else ( 5 if x == 'Hispanic'\n",
    "                                                            else  0)))))\n",
    "#Print new count\n",
    "DiabeticDataset['race'].value_counts()"
   ]
  },
  {
   "cell_type": "markdown",
   "metadata": {},
   "source": [
    "### Gender"
   ]
  },
  {
   "cell_type": "markdown",
   "metadata": {},
   "source": [
    "We have a very small number of unknowns for Gender. We decided to drop them."
   ]
  },
  {
   "cell_type": "code",
   "execution_count": 42,
   "metadata": {},
   "outputs": [
    {
     "data": {
      "text/plain": [
       "1    53575\n",
       "0    45917\n",
       "Name: gender, dtype: int64"
      ]
     },
     "execution_count": 42,
     "metadata": {},
     "output_type": "execute_result"
    }
   ],
   "source": [
    "#drop the 2 missing values\n",
    "DiabeticDataset = DiabeticDataset[DiabeticDataset.gender != 'Unknown/Invalid']\n",
    "#map gender categories to numerical values\n",
    "DiabeticDataset['gender'] = DiabeticDataset['gender'].apply(lambda x : 1 if x == 'Female' \n",
    "                                                            else  0)\n",
    "#New count\n",
    "DiabeticDataset['gender'].value_counts()"
   ]
  },
  {
   "cell_type": "markdown",
   "metadata": {},
   "source": [
    "### Age"
   ]
  },
  {
   "cell_type": "code",
   "execution_count": 43,
   "metadata": {},
   "outputs": [
    {
     "data": {
      "image/png": "[encoded data removed]",
      "text/plain": [
       "<Figure size 432x288 with 1 Axes>"
      ]
     },
     "metadata": {
      "needs_background": "light"
     },
     "output_type": "display_data"
    }
   ],
   "source": [
    "#Plot the age columns distribution\n",
    "sns.countplot(x = 'age', data = DiabeticDataset)\n",
    "plt.title(\"Age\")\n",
    "plt.show()"
   ]
  },
  {
   "cell_type": "markdown",
   "metadata": {},
   "source": [
    "We will remap the age categories into numeric values. We just chose mid age of each range."
   ]
  },
  {
   "cell_type": "code",
   "execution_count": 44,
   "metadata": {},
   "outputs": [
    {
     "data": {
      "text/plain": [
       "75    25468\n",
       "65    21988\n",
       "55    16895\n",
       "85    16800\n",
       "45     9465\n",
       "35     3699\n",
       "95     2724\n",
       "25     1611\n",
       "15      682\n",
       "5       160\n",
       "Name: age, dtype: int64"
      ]
     },
     "execution_count": 44,
     "metadata": {},
     "output_type": "execute_result"
    }
   ],
   "source": [
    "#for training the models, we will convert each category to mid value\n",
    "DiabeticDataset['age'] = DiabeticDataset['age'].map({'[70-80)': 75,\n",
    "                             '[60-70)': 65, '[50-60)': 55, '[80-90)':85, '[40-50)':45,                                                                  \n",
    "                             '[30-40)': 35, '[90-100)':95, '[20-30)':25, '[10-20)':15,\n",
    "                             '[0-10)':5 })\n",
    "#show count\n",
    "DiabeticDataset['age'].value_counts()"
   ]
  },
  {
   "cell_type": "markdown",
   "metadata": {},
   "source": [
    "### Admission Type"
   ]
  },
  {
   "cell_type": "markdown",
   "metadata": {},
   "source": [
    "We will group 5: Not available, 6: NULL and 8: Not Mapped on the same category 5"
   ]
  },
  {
   "cell_type": "code",
   "execution_count": 45,
   "metadata": {},
   "outputs": [
    {
     "data": {
      "text/plain": [
       "1    52900\n",
       "3    18507\n",
       "2    17786\n",
       "5    10269\n",
       "7       20\n",
       "4       10\n",
       "Name: admission_type_id, dtype: int64"
      ]
     },
     "execution_count": 45,
     "metadata": {},
     "output_type": "execute_result"
    }
   ],
   "source": [
    "#We will group 5: Not available, 6: NULL and 8: Not Mapped on the same category 5\n",
    "DiabeticDataset['admission_type_id'] = DiabeticDataset['admission_type_id'].apply(lambda x : 5 if int(x) in [6, 8]\n",
    "                                                            else int(x))\n",
    "DiabeticDataset['admission_type_id'].value_counts()"
   ]
  },
  {
   "cell_type": "markdown",
   "metadata": {},
   "source": [
    "### Discharge Disposition ID"
   ]
  },
  {
   "cell_type": "markdown",
   "metadata": {},
   "source": [
    "We will drop all rows that contain Hospice and Expired to remove bias"
   ]
  },
  {
   "cell_type": "code",
   "execution_count": 46,
   "metadata": {},
   "outputs": [
    {
     "data": {
      "text/plain": [
       "1     58767\n",
       "3     13614\n",
       "6     12698\n",
       "18     3673\n",
       "2      2061\n",
       "22     1981\n",
       "5      1143\n",
       "25      973\n",
       "4       765\n",
       "7       611\n",
       "23      406\n",
       "28      138\n",
       "8       107\n",
       "15       63\n",
       "24       48\n",
       "9        21\n",
       "17       14\n",
       "16       11\n",
       "10        6\n",
       "27        5\n",
       "12        3\n",
       "Name: discharge_disposition_id, dtype: int64"
      ]
     },
     "execution_count": 46,
     "metadata": {},
     "output_type": "execute_result"
    }
   ],
   "source": [
    "#We will drop all rows that contain Hospice and Expired to remove bias\n",
    "DiabeticDataset = DiabeticDataset[~DiabeticDataset.discharge_disposition_id.isin([11,13,14,19,20,21])]\n",
    "\n",
    "DiabeticDataset['discharge_disposition_id'].value_counts()"
   ]
  },
  {
   "cell_type": "markdown",
   "metadata": {},
   "source": [
    "### Admission Source ID"
   ]
  },
  {
   "cell_type": "code",
   "execution_count": 47,
   "metadata": {},
   "outputs": [
    {
     "data": {
      "text/plain": [
       "7     55012\n",
       "1     28461\n",
       "17     6489\n",
       "4      2923\n",
       "6      1964\n",
       "2      1021\n",
       "5       800\n",
       "3       185\n",
       "20      158\n",
       "9        54\n",
       "8        15\n",
       "22       12\n",
       "10        7\n",
       "11        2\n",
       "14        2\n",
       "25        2\n",
       "13        1\n",
       "Name: admission_source_id, dtype: int64"
      ]
     },
     "execution_count": 47,
     "metadata": {},
     "output_type": "execute_result"
    }
   ],
   "source": [
    "#Show count of each admissions source id\n",
    "DiabeticDataset.admission_source_id.value_counts()"
   ]
  },
  {
   "cell_type": "markdown",
   "metadata": {},
   "source": [
    "We will group Null 9: Not available, 15: Not Available, 17:Null, 20: not mapped as they all mean the value is missing"
   ]
  },
  {
   "cell_type": "code",
   "execution_count": 48,
   "metadata": {},
   "outputs": [
    {
     "data": {
      "text/plain": [
       "7     55012\n",
       "1     28461\n",
       "9      6701\n",
       "4      2923\n",
       "6      1964\n",
       "2      1021\n",
       "5       800\n",
       "3       185\n",
       "8        15\n",
       "22       12\n",
       "10        7\n",
       "25        2\n",
       "14        2\n",
       "11        2\n",
       "13        1\n",
       "Name: admission_source_id, dtype: int64"
      ]
     },
     "execution_count": 48,
     "metadata": {},
     "output_type": "execute_result"
    }
   ],
   "source": [
    "#group Null 9: Not available, 15: Not Available, 17:Null, 20: not mapped as they all mean the value is missing\n",
    "DiabeticDataset['admission_source_id'] = DiabeticDataset['admission_source_id'].apply(lambda x : 9 if int(x) in [15, 17, 20]\n",
    "                                                            else int(x))\n",
    "DiabeticDataset.admission_source_id.value_counts()"
   ]
  },
  {
   "cell_type": "markdown",
   "metadata": {},
   "source": [
    "### Time in Hospital"
   ]
  },
  {
   "cell_type": "markdown",
   "metadata": {},
   "source": [
    "No changes needed for this field"
   ]
  },
  {
   "cell_type": "code",
   "execution_count": 49,
   "metadata": {},
   "outputs": [
    {
     "data": {
      "text/plain": [
       "<AxesSubplot:xlabel='time_in_hospital', ylabel='count'>"
      ]
     },
     "execution_count": 49,
     "metadata": {},
     "output_type": "execute_result"
    },
    {
     "data": {
      "image/png": "[encoded data removed]",
      "text/plain": [
       "<Figure size 432x288 with 1 Axes>"
      ]
     },
     "metadata": {
      "needs_background": "light"
     },
     "output_type": "display_data"
    }
   ],
   "source": [
    "#This field shows how long patient stayed in hospital. \n",
    "#Show count of each period\n",
    "sns.countplot(x = 'time_in_hospital', data = DiabeticDataset)"
   ]
  },
  {
   "cell_type": "markdown",
   "metadata": {},
   "source": [
    "### Payer Code"
   ]
  },
  {
   "cell_type": "markdown",
   "metadata": {},
   "source": [
    "As we've seen earlier in our missing value percentages for each column, Payer code has 39% of missing values. Also, this field mainly shows the insurance provider of each patient (how patient paid) this logically has no impact on our prediction. We will later drop this field"
   ]
  },
  {
   "cell_type": "code",
   "execution_count": 50,
   "metadata": {},
   "outputs": [
    {
     "data": {
      "text/plain": [
       "<AxesSubplot:xlabel='payer_code', ylabel='count'>"
      ]
     },
     "execution_count": 50,
     "metadata": {},
     "output_type": "execute_result"
    },
    {
     "data": {
      "image/png": "[encoded data removed]",
      "text/plain": [
       "<Figure size 432x288 with 1 Axes>"
      ]
     },
     "metadata": {
      "needs_background": "light"
     },
     "output_type": "display_data"
    }
   ],
   "source": [
    "#Show Payer_code Distribution\n",
    "#Null values has the highest amount. We will drop this field\n",
    "sns.countplot(x = 'payer_code', data = DiabeticDataset)"
   ]
  },
  {
   "cell_type": "markdown",
   "metadata": {},
   "source": [
    "### Medical Specialty"
   ]
  },
  {
   "cell_type": "markdown",
   "metadata": {},
   "source": [
    "Medical specialty has around 71 different categories and 49% missing values. We could see for the results below that the vast majority of rows in this fields are missing values. So we decided to drop this field although it might have some impact on our prediction"
   ]
  },
  {
   "cell_type": "code",
   "execution_count": 51,
   "metadata": {},
   "outputs": [
    {
     "name": "stdout",
     "output_type": "stream",
     "text": [
      "Number medical specialty: 73\n"
     ]
    },
    {
     "data": {
      "text/plain": [
       "medical_specialty\n",
       "?                                47461\n",
       "InternalMedicine                 13805\n",
       "Emergency/Trauma                  7395\n",
       "Family/GeneralPractice            7085\n",
       "Cardiology                        5175\n",
       "                                 ...  \n",
       "Speech                               1\n",
       "Pediatrics-InfectiousDiseases        1\n",
       "SportsMedicine                       1\n",
       "Proctology                           1\n",
       "Neurophysiology                      1\n",
       "Length: 73, dtype: int64"
      ]
     },
     "execution_count": 51,
     "metadata": {},
     "output_type": "execute_result"
    }
   ],
   "source": [
    "#print distribution of medical specialty and sort values descending order\n",
    "print('Number medical specialty:', DiabeticDataset.medical_specialty.nunique())\n",
    "DiabeticDataset.groupby('medical_specialty').size().sort_values(ascending = False)"
   ]
  },
  {
   "cell_type": "markdown",
   "metadata": {},
   "source": [
    "### Num Lab Procedures, Medication, outpatient, emergency, inpatient"
   ]
  },
  {
   "cell_type": "markdown",
   "metadata": {},
   "source": [
    "No changes required for for: Num_lab_procedures, num_procedure, num_medication, num_outpatient, num_emergency, num_inpatient."
   ]
  },
  {
   "cell_type": "code",
   "execution_count": 52,
   "metadata": {},
   "outputs": [
    {
     "data": {
      "text/plain": [
       "1      3091\n",
       "43     2699\n",
       "44     2399\n",
       "45     2283\n",
       "38     2131\n",
       "       ... \n",
       "114       1\n",
       "118       1\n",
       "129       1\n",
       "120       1\n",
       "121       1\n",
       "Name: num_lab_procedures, Length: 118, dtype: int64"
      ]
     },
     "execution_count": 52,
     "metadata": {},
     "output_type": "execute_result"
    }
   ],
   "source": [
    "#Number of lab tests performed at the visit\n",
    "DiabeticDataset.num_lab_procedures.value_counts()"
   ]
  },
  {
   "cell_type": "markdown",
   "metadata": {},
   "source": [
    "### Diag1, Diag2, Diag3"
   ]
  },
  {
   "cell_type": "markdown",
   "metadata": {},
   "source": [
    "These 3 fields contain numerical values. Each range corresponds to a specific type of diagnose. We will use use rule that we found on \"Impact of HbA1c Measurement on Hospital Readmission Rates: Analysis of 70,000 Clinical Database Patient Records.\" Research paper to map to numerical values to its right category. 1 => circulatory 2 => respiratory 3 => digestive 4 => diabetes 5 => injury 6 => musculoskeletal 7 => genitourinary 8 => neoplasms 9 => pregnecy 10 => other"
   ]
  },
  {
   "cell_type": "code",
   "execution_count": 53,
   "metadata": {},
   "outputs": [
    {
     "name": "stdout",
     "output_type": "stream",
     "text": [
      "[ 1  2  3  4  5  6  7  8  9 10] \n",
      "\n",
      "[ 1  2  3  4  5  6  7  8  9 10] \n",
      "\n",
      "[ 1  2  3  4  5  6  7  8  9 10] \n",
      "\n"
     ]
    },
    {
     "data": {
      "text/plain": [
       "<AxesSubplot:xlabel='diag_3', ylabel='count'>"
      ]
     },
     "execution_count": 53,
     "metadata": {},
     "output_type": "execute_result"
    },
    {
     "data": {
      "image/png": "[encoded data removed]",
      "text/plain": [
       "<Figure size 432x288 with 1 Axes>"
      ]
     },
     "metadata": {
      "needs_background": "light"
     },
     "output_type": "display_data"
    }
   ],
   "source": [
    "#Lets look for the most common value in each column\n",
    "diag_1 = Counter(list(DiabeticDataset['diag_1'])).most_common(1)[0][0]\n",
    "diag_2 = Counter(list(DiabeticDataset['diag_2'])).most_common(1)[0][0]\n",
    "diag_3 = Counter(list(DiabeticDataset['diag_3'])).most_common(1)[0][0]\n",
    "\n",
    "#Replace empty values by the most common one for each column\n",
    "DiabeticDataset['diag_1'] = DiabeticDataset['diag_1'].apply(lambda x : diag_1 if x == '?' else x)\n",
    "DiabeticDataset['diag_2'] = DiabeticDataset['diag_1'].apply(lambda x : diag_2 if x == '?' else x)\n",
    "DiabeticDataset['diag_3'] = DiabeticDataset['diag_3'].apply(lambda x : diag_3 if x == '?' else x)\n",
    "\n",
    "#Map each value to its category for Diag1\n",
    "DiabeticDataset['diag_1'] = DiabeticDataset['diag_1'].apply(lambda x : 10 if (str(x).find('V') != -1 or str(x).find('E') != -1)  \n",
    "                                        else (1 if int(float(x)) in range(390, 460) or int(float(x)) == 785\n",
    "                                        else     (2 if int(float(x)) in range(460, 520) or int(float(x)) == 786\n",
    "                                        else     (3 if int(float(x)) in range(520, 580) or int(float(x)) == 787\n",
    "                                        else     (4 if int(float(x)) == 250\n",
    "                                        else     (5 if int(float(x)) in range(800, 1000)\n",
    "                                        else (6 if int(float(x)) in range(710, 740)\n",
    "                                        else (7 if int(float(x)) in range(580, 630) or int(float(x)) == 788\n",
    "                                        else (8 if int(float(x)) in range(140, 240)\n",
    "                                        else (9 if int(float(x)) in range(630, 680)\n",
    "                                        else 10))))))))))\n",
    "#Map each value to its category for Diag2\n",
    "DiabeticDataset['diag_2'] = DiabeticDataset['diag_2'].apply(lambda x : 10 if (str(x).find('V') != -1 or str(x).find('E') != -1)  \n",
    "                                        else (1 if int(float(x)) in range(390, 460) or int(float(x)) == 785\n",
    "                                        else     (2 if int(float(x)) in range(460, 520) or int(float(x)) == 786\n",
    "                                        else     (3 if int(float(x)) in range(520, 580) or int(float(x)) == 787\n",
    "                                        else     (4 if int(float(x)) == 250\n",
    "                                        else     (5 if int(float(x)) in range(800, 1000)\n",
    "                                        else (6 if int(float(x)) in range(710, 740)\n",
    "                                        else (7 if int(float(x)) in range(580, 630) or int(float(x)) == 788\n",
    "                                        else (8 if int(float(x)) in range(140, 240)\n",
    "                                        else (9 if int(float(x)) in range(630, 680)\n",
    "                                        else 10))))))))))\n",
    "#Map each value to its category for Diag3\n",
    "DiabeticDataset['diag_3'] = DiabeticDataset['diag_3'].apply(lambda x : 10 if (str(x).find('V') != -1 or str(x).find('E') != -1)  \n",
    "                                        else (1 if int(float(x)) in range(390, 460) or int(float(x)) == 785\n",
    "                                        else     (2 if int(float(x)) in range(460, 520) or int(float(x)) == 786\n",
    "                                        else     (3 if int(float(x)) in range(520, 580) or int(float(x)) == 787\n",
    "                                        else     (4 if int(float(x)) == 250\n",
    "                                        else     (5 if int(float(x)) in range(800, 1000)\n",
    "                                        else (6 if int(float(x)) in range(710, 740)\n",
    "                                        else (7 if int(float(x)) in range(580, 630) or int(float(x)) == 788\n",
    "                                        else (8 if int(float(x)) in range(140, 240)\n",
    "                                        else (9 if int(float(x)) in range(630, 680)\n",
    "                                        else 10))))))))))  \n",
    "#Print the distributions for diag1, diag2, diag3\n",
    "print(np.unique(DiabeticDataset['diag_1']), '\\n')           \n",
    "print(np.unique(DiabeticDataset['diag_2']), '\\n')\n",
    "print(np.unique(DiabeticDataset['diag_3']), '\\n')\n",
    "sns.countplot(x = 'diag_1', data = DiabeticDataset)\n",
    "sns.countplot(x = 'diag_2', data = DiabeticDataset)\n",
    "sns.countplot(x = 'diag_3', data = DiabeticDataset)"
   ]
  },
  {
   "cell_type": "markdown",
   "metadata": {},
   "source": [
    "### Max Glucose Serum"
   ]
  },
  {
   "cell_type": "markdown",
   "metadata": {},
   "source": [
    "Glucose test serum is a test result. We will map the possible results to numerical values. 200 for '>200' 300 for '>300' 100 for 'Norm' else 0"
   ]
  },
  {
   "cell_type": "code",
   "execution_count": 54,
   "metadata": {},
   "outputs": [
    {
     "data": {
      "text/plain": [
       "<AxesSubplot:xlabel='max_glu_serum', ylabel='count'>"
      ]
     },
     "execution_count": 54,
     "metadata": {},
     "output_type": "execute_result"
    },
    {
     "data": {
      "image/png": "[encoded data removed]",
      "text/plain": [
       "<Figure size 432x288 with 1 Axes>"
      ]
     },
     "metadata": {
      "needs_background": "light"
     },
     "output_type": "display_data"
    }
   ],
   "source": [
    "#map ranges to numerical values\n",
    "DiabeticDataset['max_glu_serum'] = DiabeticDataset['max_glu_serum'].apply(lambda x : 200 if x == '>200' \n",
    "                                                            else ( 300 if x == '>300'                                                          \n",
    "                                                            else ( 100 if x == 'Norm'\n",
    "                                                            else  0)))\n",
    "# print distribution of column\n",
    "sns.countplot(x = 'max_glu_serum', data = DiabeticDataset)"
   ]
  },
  {
   "cell_type": "markdown",
   "metadata": {},
   "source": [
    "### A1Cresult"
   ]
  },
  {
   "cell_type": "markdown",
   "metadata": {},
   "source": [
    "A1C is a medical result we will map the possible ranges to a numerical value. 7 => '>7' 8 => '>8' 5 => 'Norm' else 0"
   ]
  },
  {
   "cell_type": "code",
   "execution_count": 55,
   "metadata": {},
   "outputs": [
    {
     "data": {
      "text/plain": [
       "<AxesSubplot:xlabel='A1Cresult', ylabel='count'>"
      ]
     },
     "execution_count": 55,
     "metadata": {},
     "output_type": "execute_result"
    },
    {
     "data": {
      "image/png": "[encoded data removed]",
      "text/plain": [
       "<Figure size 432x288 with 1 Axes>"
      ]
     },
     "metadata": {
      "needs_background": "light"
     },
     "output_type": "display_data"
    }
   ],
   "source": [
    "#Map ranges into numerical values\n",
    "DiabeticDataset['A1Cresult'] = DiabeticDataset['A1Cresult'].apply(lambda x : 7 if x == '>7' \n",
    "                                                         else (8 if  x == '>8'                                                        \n",
    "                                                         else ( 5 if x == 'Norm'\n",
    "                                                         else  0)))\n",
    "#Print distribution of column\n",
    "sns.countplot(x = 'A1Cresult', data = DiabeticDataset)"
   ]
  },
  {
   "cell_type": "markdown",
   "metadata": {},
   "source": [
    "### Medicaments Columns: 23 in total"
   ]
  },
  {
   "cell_type": "markdown",
   "metadata": {},
   "source": [
    "The following 23 fields are all medicaments with same possible outcome (down, no, steady, up). We will map each category into a numeric value as follows: 10 => 'up' -10 => 'down' 0 => 'steady' Else -20"
   ]
  },
  {
   "cell_type": "code",
   "execution_count": 56,
   "metadata": {},
   "outputs": [
    {
     "data": {
      "text/plain": [
       "<AxesSubplot:xlabel='metformin', ylabel='count'>"
      ]
     },
     "execution_count": 56,
     "metadata": {},
     "output_type": "execute_result"
    },
    {
     "data": {
      "image/png": "[encoded data removed]",
      "text/plain": [
       "<Figure size 432x288 with 1 Axes>"
      ]
     },
     "metadata": {
      "needs_background": "light"
     },
     "output_type": "display_data"
    }
   ],
   "source": [
    "#For all medicaments columns, change the categorical outcomes to numerical values\n",
    "for col in [\"metformin\", \"repaglinide\", \"nateglinide\", \"chlorpropamide\", \"glimepiride\", \"acetohexamide\", \"glipizide\", \"glyburide\", \"tolbutamide\", \"pioglitazone\", \"rosiglitazone\", \"acarbose\", \"miglitol\", \"troglitazone\", \"tolazamide\", \"examide\", \"citoglipton\", \"insulin\", \"glyburide-metformin\", \"glipizide-metformin\", \"glimepiride-pioglitazone\", \"metformin-rosiglitazone\", \"metformin-pioglitazone\"]:\n",
    "    DiabeticDataset[col] = DiabeticDataset[col].apply(lambda x : 10 if x == 'Up' \n",
    "                                              else ( -10 if x == 'Down'                                                          \n",
    "                                              else ( 0 if x == 'Steady'\n",
    "                                              else  -20)))\n",
    "    #show one example\n",
    "sns.countplot(x = 'metformin', data = DiabeticDataset)"
   ]
  },
  {
   "cell_type": "markdown",
   "metadata": {},
   "source": [
    "### Change"
   ]
  },
  {
   "cell_type": "markdown",
   "metadata": {},
   "source": [
    "This column basically shows if there was a change in medics, we will map 1 for 'ch' and -1 for no"
   ]
  },
  {
   "cell_type": "code",
   "execution_count": 57,
   "metadata": {},
   "outputs": [
    {
     "data": {
      "text/plain": [
       "<AxesSubplot:xlabel='change', ylabel='count'>"
      ]
     },
     "execution_count": 57,
     "metadata": {},
     "output_type": "execute_result"
    },
    {
     "data": {
      "image/png": "[encoded data removed]",
      "text/plain": [
       "<Figure size 432x288 with 1 Axes>"
      ]
     },
     "metadata": {
      "needs_background": "light"
     },
     "output_type": "display_data"
    }
   ],
   "source": [
    "DiabeticDataset['change'] = DiabeticDataset['change'].apply(lambda x : 1 if x == 'Ch'\n",
    "                                                 else -1)\n",
    "#show results\n",
    "sns.countplot(x = 'change', data = DiabeticDataset)"
   ]
  },
  {
   "cell_type": "markdown",
   "metadata": {},
   "source": [
    "### DiabetesMed"
   ]
  },
  {
   "cell_type": "markdown",
   "metadata": {},
   "source": [
    "This field basically shows if patient had any diabetes medications. We will map 1 for yes and -1 for no"
   ]
  },
  {
   "cell_type": "code",
   "execution_count": 58,
   "metadata": {},
   "outputs": [
    {
     "data": {
      "text/plain": [
       "<AxesSubplot:xlabel='diabetesMed', ylabel='count'>"
      ]
     },
     "execution_count": 58,
     "metadata": {},
     "output_type": "execute_result"
    },
    {
     "data": {
      "image/png": "[encoded data removed]",
      "text/plain": [
       "<Figure size 432x288 with 1 Axes>"
      ]
     },
     "metadata": {
      "needs_background": "light"
     },
     "output_type": "display_data"
    }
   ],
   "source": [
    "#map\n",
    "DiabeticDataset['diabetesMed'] = DiabeticDataset['diabetesMed'].apply(lambda x : -1 if x == 'No'\n",
    "                                                else 1)\n",
    "#Show results\n",
    "sns.countplot(x = 'diabetesMed', data = DiabeticDataset)"
   ]
  },
  {
   "cell_type": "markdown",
   "metadata": {},
   "source": [
    "### Predicted Class: Readmitted"
   ]
  },
  {
   "cell_type": "markdown",
   "metadata": {},
   "source": [
    "Our predicted class is the readmitted column. We chose our lables as follows: Readmitted in <30 => 1 else 0. The reason for this is that the government performs audits on hostpitals and they check they're readmission rates of less than 30 days. If it's high, the cut the government support budget. So this model will help hostpitals be more prepared. "
   ]
  },
  {
   "cell_type": "code",
   "execution_count": 59,
   "metadata": {},
   "outputs": [
    {
     "data": {
      "text/plain": [
       "<AxesSubplot:xlabel='readmitted', ylabel='count'>"
      ]
     },
     "execution_count": 59,
     "metadata": {},
     "output_type": "execute_result"
    },
    {
     "data": {
      "image/png": "[encoded data removed]",
      "text/plain": [
       "<Figure size 432x288 with 1 Axes>"
      ]
     },
     "metadata": {
      "needs_background": "light"
     },
     "output_type": "display_data"
    }
   ],
   "source": [
    "#Lets explore this field\n",
    "sns.countplot(x = 'readmitted', data = DiabeticDataset)"
   ]
  },
  {
   "cell_type": "code",
   "execution_count": 60,
   "metadata": {},
   "outputs": [
    {
     "data": {
      "text/plain": [
       "<AxesSubplot:ylabel='readmitted'>"
      ]
     },
     "execution_count": 60,
     "metadata": {},
     "output_type": "execute_result"
    },
    {
     "data": {
      "image/png": "[encoded data removed]",
      "text/plain": [
       "<Figure size 432x288 with 1 Axes>"
      ]
     },
     "metadata": {},
     "output_type": "display_data"
    }
   ],
   "source": [
    "#map to 0 and 1\n",
    "DiabeticDataset['readmitted'] = DiabeticDataset.readmitted.apply(lambda x: 1 if x == '<30' else 0)\n",
    "#print results\n",
    "DiabeticDataset.readmitted.value_counts().plot.pie(autopct=\"%1.1f%%\", startangle=120,\n",
    "                                        textprops={'fontsize': 12, 'color':'#0a0a00'})"
   ]
  },
  {
   "cell_type": "markdown",
   "metadata": {},
   "source": [
    "We could see that our dataset is highly imbalanced with more non re-admitted case in less than 30."
   ]
  },
  {
   "cell_type": "markdown",
   "metadata": {},
   "source": [
    "### drop Duplicates Records"
   ]
  },
  {
   "cell_type": "markdown",
   "metadata": {},
   "source": [
    "We have many duplicate records in our dataset as patients have duplicated recored when they are readmitted. We will drop them."
   ]
  },
  {
   "cell_type": "code",
   "execution_count": 61,
   "metadata": {},
   "outputs": [
    {
     "name": "stdout",
     "output_type": "stream",
     "text": [
      "Length after removing Duplicates: 68166\n"
     ]
    }
   ],
   "source": [
    "DiabeticDataset.drop_duplicates(['patient_nbr'], keep = 'first', inplace = True)\n",
    "print('Length after removing Duplicates:', len(DiabeticDataset))"
   ]
  },
  {
   "cell_type": "markdown",
   "metadata": {},
   "source": [
    "### Drop Columns with Missing Values"
   ]
  },
  {
   "cell_type": "markdown",
   "metadata": {},
   "source": [
    "As discussed in previous sections, we decided to drop the following columns because of large number of missing values: Weight, Payer_code and medical specialty. We also need to drop encounter_id and patient_nbr as they are unique identifiers for patients thus not needed in our predictions."
   ]
  },
  {
   "cell_type": "code",
   "execution_count": 62,
   "metadata": {},
   "outputs": [
    {
     "data": {
      "text/html": [
       "<div>\n",
       "<style scoped>\n",
       "    .dataframe tbody tr th:only-of-type {\n",
       "        vertical-align: middle;\n",
       "    }\n",
       "\n",
       "    .dataframe tbody tr th {\n",
       "        vertical-align: top;\n",
       "    }\n",
       "\n",
       "    .dataframe thead th {\n",
       "        text-align: right;\n",
       "    }\n",
       "</style>\n",
       "<table border=\"1\" class=\"dataframe\">\n",
       "  <thead>\n",
       "    <tr style=\"text-align: right;\">\n",
       "      <th></th>\n",
       "      <th>0</th>\n",
       "      <th>1</th>\n",
       "    </tr>\n",
       "  </thead>\n",
       "  <tbody>\n",
       "    <tr>\n",
       "      <th>race</th>\n",
       "      <td>1</td>\n",
       "      <td>1</td>\n",
       "    </tr>\n",
       "    <tr>\n",
       "      <th>gender</th>\n",
       "      <td>1</td>\n",
       "      <td>1</td>\n",
       "    </tr>\n",
       "    <tr>\n",
       "      <th>age</th>\n",
       "      <td>5</td>\n",
       "      <td>15</td>\n",
       "    </tr>\n",
       "    <tr>\n",
       "      <th>admission_type_id</th>\n",
       "      <td>5</td>\n",
       "      <td>1</td>\n",
       "    </tr>\n",
       "    <tr>\n",
       "      <th>discharge_disposition_id</th>\n",
       "      <td>25</td>\n",
       "      <td>1</td>\n",
       "    </tr>\n",
       "    <tr>\n",
       "      <th>admission_source_id</th>\n",
       "      <td>1</td>\n",
       "      <td>7</td>\n",
       "    </tr>\n",
       "    <tr>\n",
       "      <th>time_in_hospital</th>\n",
       "      <td>1</td>\n",
       "      <td>3</td>\n",
       "    </tr>\n",
       "    <tr>\n",
       "      <th>num_lab_procedures</th>\n",
       "      <td>41</td>\n",
       "      <td>59</td>\n",
       "    </tr>\n",
       "    <tr>\n",
       "      <th>num_procedures</th>\n",
       "      <td>0</td>\n",
       "      <td>0</td>\n",
       "    </tr>\n",
       "    <tr>\n",
       "      <th>num_medications</th>\n",
       "      <td>1</td>\n",
       "      <td>18</td>\n",
       "    </tr>\n",
       "    <tr>\n",
       "      <th>number_outpatient</th>\n",
       "      <td>0</td>\n",
       "      <td>0</td>\n",
       "    </tr>\n",
       "    <tr>\n",
       "      <th>number_emergency</th>\n",
       "      <td>0</td>\n",
       "      <td>0</td>\n",
       "    </tr>\n",
       "    <tr>\n",
       "      <th>number_inpatient</th>\n",
       "      <td>0</td>\n",
       "      <td>0</td>\n",
       "    </tr>\n",
       "    <tr>\n",
       "      <th>diag_1</th>\n",
       "      <td>4</td>\n",
       "      <td>10</td>\n",
       "    </tr>\n",
       "    <tr>\n",
       "      <th>diag_2</th>\n",
       "      <td>4</td>\n",
       "      <td>10</td>\n",
       "    </tr>\n",
       "    <tr>\n",
       "      <th>diag_3</th>\n",
       "      <td>4</td>\n",
       "      <td>10</td>\n",
       "    </tr>\n",
       "    <tr>\n",
       "      <th>number_diagnoses</th>\n",
       "      <td>1</td>\n",
       "      <td>9</td>\n",
       "    </tr>\n",
       "    <tr>\n",
       "      <th>max_glu_serum</th>\n",
       "      <td>0</td>\n",
       "      <td>0</td>\n",
       "    </tr>\n",
       "    <tr>\n",
       "      <th>A1Cresult</th>\n",
       "      <td>0</td>\n",
       "      <td>0</td>\n",
       "    </tr>\n",
       "    <tr>\n",
       "      <th>metformin</th>\n",
       "      <td>-20</td>\n",
       "      <td>-20</td>\n",
       "    </tr>\n",
       "    <tr>\n",
       "      <th>repaglinide</th>\n",
       "      <td>-20</td>\n",
       "      <td>-20</td>\n",
       "    </tr>\n",
       "    <tr>\n",
       "      <th>nateglinide</th>\n",
       "      <td>-20</td>\n",
       "      <td>-20</td>\n",
       "    </tr>\n",
       "    <tr>\n",
       "      <th>chlorpropamide</th>\n",
       "      <td>-20</td>\n",
       "      <td>-20</td>\n",
       "    </tr>\n",
       "    <tr>\n",
       "      <th>glimepiride</th>\n",
       "      <td>-20</td>\n",
       "      <td>-20</td>\n",
       "    </tr>\n",
       "    <tr>\n",
       "      <th>acetohexamide</th>\n",
       "      <td>-20</td>\n",
       "      <td>-20</td>\n",
       "    </tr>\n",
       "    <tr>\n",
       "      <th>glipizide</th>\n",
       "      <td>-20</td>\n",
       "      <td>-20</td>\n",
       "    </tr>\n",
       "    <tr>\n",
       "      <th>glyburide</th>\n",
       "      <td>-20</td>\n",
       "      <td>-20</td>\n",
       "    </tr>\n",
       "    <tr>\n",
       "      <th>tolbutamide</th>\n",
       "      <td>-20</td>\n",
       "      <td>-20</td>\n",
       "    </tr>\n",
       "    <tr>\n",
       "      <th>pioglitazone</th>\n",
       "      <td>-20</td>\n",
       "      <td>-20</td>\n",
       "    </tr>\n",
       "    <tr>\n",
       "      <th>rosiglitazone</th>\n",
       "      <td>-20</td>\n",
       "      <td>-20</td>\n",
       "    </tr>\n",
       "    <tr>\n",
       "      <th>acarbose</th>\n",
       "      <td>-20</td>\n",
       "      <td>-20</td>\n",
       "    </tr>\n",
       "    <tr>\n",
       "      <th>miglitol</th>\n",
       "      <td>-20</td>\n",
       "      <td>-20</td>\n",
       "    </tr>\n",
       "    <tr>\n",
       "      <th>troglitazone</th>\n",
       "      <td>-20</td>\n",
       "      <td>-20</td>\n",
       "    </tr>\n",
       "    <tr>\n",
       "      <th>tolazamide</th>\n",
       "      <td>-20</td>\n",
       "      <td>-20</td>\n",
       "    </tr>\n",
       "    <tr>\n",
       "      <th>examide</th>\n",
       "      <td>-20</td>\n",
       "      <td>-20</td>\n",
       "    </tr>\n",
       "    <tr>\n",
       "      <th>citoglipton</th>\n",
       "      <td>-20</td>\n",
       "      <td>-20</td>\n",
       "    </tr>\n",
       "    <tr>\n",
       "      <th>insulin</th>\n",
       "      <td>-20</td>\n",
       "      <td>10</td>\n",
       "    </tr>\n",
       "    <tr>\n",
       "      <th>glyburide-metformin</th>\n",
       "      <td>-20</td>\n",
       "      <td>-20</td>\n",
       "    </tr>\n",
       "    <tr>\n",
       "      <th>glipizide-metformin</th>\n",
       "      <td>-20</td>\n",
       "      <td>-20</td>\n",
       "    </tr>\n",
       "    <tr>\n",
       "      <th>glimepiride-pioglitazone</th>\n",
       "      <td>-20</td>\n",
       "      <td>-20</td>\n",
       "    </tr>\n",
       "    <tr>\n",
       "      <th>metformin-rosiglitazone</th>\n",
       "      <td>-20</td>\n",
       "      <td>-20</td>\n",
       "    </tr>\n",
       "    <tr>\n",
       "      <th>metformin-pioglitazone</th>\n",
       "      <td>-20</td>\n",
       "      <td>-20</td>\n",
       "    </tr>\n",
       "    <tr>\n",
       "      <th>change</th>\n",
       "      <td>-1</td>\n",
       "      <td>1</td>\n",
       "    </tr>\n",
       "    <tr>\n",
       "      <th>diabetesMed</th>\n",
       "      <td>-1</td>\n",
       "      <td>1</td>\n",
       "    </tr>\n",
       "    <tr>\n",
       "      <th>readmitted</th>\n",
       "      <td>0</td>\n",
       "      <td>0</td>\n",
       "    </tr>\n",
       "  </tbody>\n",
       "</table>\n",
       "</div>"
      ],
      "text/plain": [
       "                           0   1\n",
       "race                       1   1\n",
       "gender                     1   1\n",
       "age                        5  15\n",
       "admission_type_id          5   1\n",
       "discharge_disposition_id  25   1\n",
       "admission_source_id        1   7\n",
       "time_in_hospital           1   3\n",
       "num_lab_procedures        41  59\n",
       "num_procedures             0   0\n",
       "num_medications            1  18\n",
       "number_outpatient          0   0\n",
       "number_emergency           0   0\n",
       "number_inpatient           0   0\n",
       "diag_1                     4  10\n",
       "diag_2                     4  10\n",
       "diag_3                     4  10\n",
       "number_diagnoses           1   9\n",
       "max_glu_serum              0   0\n",
       "A1Cresult                  0   0\n",
       "metformin                -20 -20\n",
       "repaglinide              -20 -20\n",
       "nateglinide              -20 -20\n",
       "chlorpropamide           -20 -20\n",
       "glimepiride              -20 -20\n",
       "acetohexamide            -20 -20\n",
       "glipizide                -20 -20\n",
       "glyburide                -20 -20\n",
       "tolbutamide              -20 -20\n",
       "pioglitazone             -20 -20\n",
       "rosiglitazone            -20 -20\n",
       "acarbose                 -20 -20\n",
       "miglitol                 -20 -20\n",
       "troglitazone             -20 -20\n",
       "tolazamide               -20 -20\n",
       "examide                  -20 -20\n",
       "citoglipton              -20 -20\n",
       "insulin                  -20  10\n",
       "glyburide-metformin      -20 -20\n",
       "glipizide-metformin      -20 -20\n",
       "glimepiride-pioglitazone -20 -20\n",
       "metformin-rosiglitazone  -20 -20\n",
       "metformin-pioglitazone   -20 -20\n",
       "change                    -1   1\n",
       "diabetesMed               -1   1\n",
       "readmitted                 0   0"
      ]
     },
     "execution_count": 62,
     "metadata": {},
     "output_type": "execute_result"
    }
   ],
   "source": [
    "#drop mentioned columns\n",
    "DiabeticDataset = DiabeticDataset.drop(['weight','payer_code','medical_specialty', 'encounter_id', 'patient_nbr'], axis = 1)\n",
    "#print columns of data set\n",
    "DiabeticDataset.head(2).T"
   ]
  },
  {
   "cell_type": "markdown",
   "metadata": {},
   "source": [
    "### Saving the data to CSV."
   ]
  },
  {
   "cell_type": "code",
   "execution_count": 63,
   "metadata": {},
   "outputs": [],
   "source": [
    "DiabeticDataset.to_csv('DiabeticDataset.csv')"
   ]
  },
  {
   "cell_type": "markdown",
   "metadata": {},
   "source": [
    "### Data Analysis"
   ]
  },
  {
   "cell_type": "markdown",
   "metadata": {},
   "source": [
    "Now that we prepared the data and set our y-label, we could perform some analysis"
   ]
  },
  {
   "cell_type": "markdown",
   "metadata": {},
   "source": [
    "### Gender, age and Race insights"
   ]
  },
  {
   "cell_type": "code",
   "execution_count": 64,
   "metadata": {
    "scrolled": true
   },
   "outputs": [
    {
     "data": {
      "image/png": "[encoded data removed]",
      "text/plain": [
       "<Figure size 1728x576 with 3 Axes>"
      ]
     },
     "metadata": {
      "needs_background": "light"
     },
     "output_type": "display_data"
    }
   ],
   "source": [
    "visual_list = ['gender','age','race']\n",
    "fig, ax =plt.subplots(nrows=1,ncols=3,figsize=(24,8))\n",
    "count =0\n",
    "for i in visual_list:\n",
    "    sns.countplot(DiabeticDataset[i], hue=DiabeticDataset.readmitted, palette='YlOrBr', ax=ax[count]);\n",
    "    count = count+1"
   ]
  },
  {
   "cell_type": "markdown",
   "metadata": {},
   "source": [
    "We could see from the plots above that females have more chances of being readmitted in less than 30 days in general. "
   ]
  },
  {
   "cell_type": "code",
   "execution_count": 65,
   "metadata": {},
   "outputs": [
    {
     "data": {
      "text/plain": [
       "insulin\n",
       "-20    0.083373\n",
       "-10    0.106398\n",
       " 0     0.093335\n",
       " 10    0.098921\n",
       "Name: readmitted, dtype: float64"
      ]
     },
     "execution_count": 65,
     "metadata": {},
     "output_type": "execute_result"
    }
   ],
   "source": [
    "DiabeticDataset.groupby(by = \"insulin\").readmitted.mean()"
   ]
  },
  {
   "cell_type": "code",
   "execution_count": 66,
   "metadata": {},
   "outputs": [
    {
     "data": {
      "image/png": "[encoded data removed]",
      "text/plain": [
       "<Figure size 432x288 with 1 Axes>"
      ]
     },
     "metadata": {
      "needs_background": "light"
     },
     "output_type": "display_data"
    }
   ],
   "source": [
    "sns.countplot(x=\"insulin\", hue=\"readmitted\", data=DiabeticDataset, palette=\"YlOrBr\")\n",
    "plt.show()"
   ]
  },
  {
   "cell_type": "code",
   "execution_count": 67,
   "metadata": {},
   "outputs": [
    {
     "data": {
      "image/png": "[encoded data removed]",
      "text/plain": [
       "<Figure size 1080x864 with 3 Axes>"
      ]
     },
     "metadata": {
      "needs_background": "light"
     },
     "output_type": "display_data"
    }
   ],
   "source": [
    "diag_list = ['diag_1','diag_2','diag_3']\n",
    "fig, ax =plt.subplots(nrows=3,ncols=1,figsize=(15,12))\n",
    "count =0\n",
    "for i in diag_list:\n",
    "    sns.countplot(DiabeticDataset[i], hue=DiabeticDataset.readmitted, palette='hot', ax=ax[count]);\n",
    "    count = count+1"
   ]
  }
 ],
 "metadata": {
  "kernelspec": {
   "display_name": "Python 3",
   "language": "python",
   "name": "python3"
  },
  "language_info": {
   "codemirror_mode": {
    "name": "ipython",
    "version": 3
   },
   "file_extension": ".py",
   "mimetype": "text/x-python",
   "name": "python",
   "nbconvert_exporter": "python",
   "pygments_lexer": "ipython3",
   "version": "3.8.5"
  }
 },
 "nbformat": 4,
 "nbformat_minor": 5
}
